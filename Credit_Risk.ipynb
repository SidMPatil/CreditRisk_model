{
 "cells": [
  {
   "cell_type": "code",
   "execution_count": 98,
   "metadata": {},
   "outputs": [],
   "source": [
    "import pandas as pd\n",
    "import numpy as np"
   ]
  },
  {
   "cell_type": "code",
   "execution_count": 99,
   "metadata": {},
   "outputs": [],
   "source": [
    "data = pd.read_csv('C:\\\\Users\\\\Siddharth\\\\Desktop\\\\Projects\\\\Credit Risk\\\\credit risk data.csv')\n",
    "\n",
    "#Creating dummy variables for 'purpose'\n",
    "data_dummy = pd.get_dummies(data = data, prefix = 'purpose', prefix_sep = '_')\n",
    "#data.head(5)"
   ]
  },
  {
   "cell_type": "code",
   "execution_count": 91,
   "metadata": {},
   "outputs": [
    {
     "name": "stdout",
     "output_type": "stream",
     "text": [
      "[LibLinear]Model accuracy: 0.86\n",
      "Average precision-recall score: 0.93\n"
     ]
    },
    {
     "data": {
      "text/plain": [
       "array([[696,   5],\n",
       "       [131, 168]], dtype=int64)"
      ]
     },
     "execution_count": 91,
     "metadata": {},
     "output_type": "execute_result"
    },
    {
     "data": {
      "image/png": "[encoded data removed]",
      "text/plain": [
       "<matplotlib.figure.Figure at 0x230b5b33828>"
      ]
     },
     "metadata": {},
     "output_type": "display_data"
    }
   ],
   "source": [
    "### Train/test split - Logistic Regression model - Model Evaluation ###\n",
    "\n",
    "# Train/test split #\n",
    "from sklearn.model_selection import train_test_split\n",
    "y = data_dummy['not.fully.paid']\n",
    "X_train, X_test, y_train, y_test = train_test_split(data_dummy, y, test_size = 0.2)\n",
    "\n",
    "# Logistics Regression model #\n",
    "from sklearn.linear_model import LogisticRegression\n",
    "LR = LogisticRegression(random_state = 0, solver = 'liblinear', verbose = 2).fit(X_train, y_train)\n",
    "y_pred = LR.predict(X_test) # array of predicted classes\n",
    "LR.predict_proba(X_test) # array of calculated probabilities\n",
    "y_score = LR.decision_function(X_test)\n",
    "\n",
    "# Confusion Matrix #\n",
    "from sklearn.metrics import confusion_matrix\n",
    "Confusion_Matrix = confusion_matrix(y_test, y_pred)\n",
    "\n",
    "# Model Accuracy #\n",
    "from sklearn.metrics import accuracy_score\n",
    "model_accuracy = accuracy_score(y_test, y_pred)\n",
    "print('Model accuracy: {0:0.2f}'.format(model_accuracy))\n",
    "\n",
    "# Precision-Recall score #\n",
    "from sklearn.metrics import average_precision_score\n",
    "average_precision = average_precision_score(y_test, y_score)\n",
    "print('Average precision-recall score: {0:0.2f}'.format(average_precision))\n",
    "\n",
    "# Precision_Recall curve #\n",
    "from sklearn.metrics import precision_recall_curve\n",
    "import matplotlib.pyplot as plt\n",
    "from sklearn.utils.fixes import signature\n",
    "precision, recall, _ = precision_recall_curve(y_test, y_score)\n",
    "# In matplotlib < 1.5, plt.fill_between does not have a 'step' argument\n",
    "step_kwargs = ({'step': 'post'}\n",
    "               if 'step' in signature(plt.fill_between).parameters\n",
    "               else {})\n",
    "plt.step(recall, precision, color='b', alpha=0.2,\n",
    "         where='post')\n",
    "plt.fill_between(recall, precision, alpha=0.2, color='b', **step_kwargs)\n",
    "\n",
    "plt.xlabel('Recall')\n",
    "plt.ylabel('Precision')\n",
    "plt.ylim([0.0, 1.05])\n",
    "plt.xlim([0.0, 1.0])\n",
    "plt.title('2-class Precision-Recall curve: AP={0:0.2f}'.format(\n",
    "          average_precision))\n",
    "\n",
    "Confusion_Matrix"
   ]
  },
  {
   "cell_type": "code",
   "execution_count": 92,
   "metadata": {},
   "outputs": [
    {
     "name": "stdout",
     "output_type": "stream",
     "text": [
      "Model accuracy: 0.76\n",
      "Average precision-recall score: 0.77\n"
     ]
    },
    {
     "data": {
      "text/plain": [
       "array([[329,   7],\n",
       "       [113,  51]], dtype=int64)"
      ]
     },
     "execution_count": 92,
     "metadata": {},
     "output_type": "execute_result"
    },
    {
     "data": {
      "image/png": "[encoded data removed]",
      "text/plain": [
       "<matplotlib.figure.Figure at 0x230b5adbc88>"
      ]
     },
     "metadata": {},
     "output_type": "display_data"
    }
   ],
   "source": [
    "### Logistic Regression using CV - Parameter tuning - Model evaluation ###\n",
    "\n",
    "# Train/test split #\n",
    "from sklearn.model_selection import train_test_split\n",
    "y = data_dummy['not.fully.paid']\n",
    "X_train, X_test, y_train, y_test = train_test_split(data_dummy, y, test_size = 0.1)\n",
    "\n",
    "from sklearn.linear_model import LogisticRegressionCV\n",
    "LR_cv = LogisticRegressionCV(cv=15, random_state = 0).fit(X_train, y_train)\n",
    "y_pred = LR_cv.predict(X_test) # array of predicted classes\n",
    "LR_cv.predict_proba(X_test) # array of calculated probabilities\n",
    "y_score = LR_cv.decision_function(X_test)\n",
    "\n",
    "# Confusion Matrix #\n",
    "from sklearn.metrics import confusion_matrix\n",
    "Confusion_Matrix = confusion_matrix(y_test, y_pred)\n",
    "\n",
    "# Model Accuracy #\n",
    "from sklearn.metrics import accuracy_score\n",
    "model_accuracy = accuracy_score(y_test, y_pred)\n",
    "print('Model accuracy: {0:0.2f}'.format(model_accuracy))\n",
    "\n",
    "# Precision-Recall score #\n",
    "from sklearn.metrics import average_precision_score\n",
    "average_precision = average_precision_score(y_test, y_score)\n",
    "print('Average precision-recall score: {0:0.2f}'.format(average_precision))\n",
    "\n",
    "# Precision_Recall curve #\n",
    "from sklearn.metrics import precision_recall_curve\n",
    "import matplotlib.pyplot as plt\n",
    "from sklearn.utils.fixes import signature\n",
    "precision, recall, _ = precision_recall_curve(y_test, y_score)\n",
    "# In matplotlib < 1.5, plt.fill_between does not have a 'step' argument\n",
    "step_kwargs = ({'step': 'post'}\n",
    "               if 'step' in signature(plt.fill_between).parameters\n",
    "               else {})\n",
    "plt.step(recall, precision, color='b', alpha=0.2,\n",
    "         where='post')\n",
    "plt.fill_between(recall, precision, alpha=0.2, color='b', **step_kwargs)\n",
    "\n",
    "plt.xlabel('Recall')\n",
    "plt.ylabel('Precision')\n",
    "plt.ylim([0.0, 1.05])\n",
    "plt.xlim([0.0, 1.0])\n",
    "plt.title('2-class Precision-Recall curve: AP={0:0.2f}'.format(\n",
    "          average_precision))\n",
    "\n",
    "Confusion_Matrix"
   ]
  }
 ],
 "metadata": {
  "kernelspec": {
   "display_name": "Python 3",
   "language": "python",
   "name": "python3"
  },
  "language_info": {
   "codemirror_mode": {
    "name": "ipython",
    "version": 3
   },
   "file_extension": ".py",
   "mimetype": "text/x-python",
   "name": "python",
   "nbconvert_exporter": "python",
   "pygments_lexer": "ipython3",
   "version": "3.6.4"
  }
 },
 "nbformat": 4,
 "nbformat_minor": 2
}
